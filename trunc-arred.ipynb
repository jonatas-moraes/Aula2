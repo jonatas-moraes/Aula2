{
 "cells": [
  {
   "cell_type": "code",
   "execution_count": 25,
   "metadata": {},
   "outputs": [
    {
     "name": "stdout",
     "output_type": "stream",
     "text": [
      "TRUNCAMENTO:\n",
      "\n",
      "0.125*10**1:   1.25\n",
      "0.100*10**2:   10.0\n",
      "-0.238*10**3:  -238.0\n",
      "0.271*10**1:   2.71\n",
      "0.7*10**-5 --> está abaixo do escopo da variação do expoente [-4, 4]\n",
      "0.71823582*10**6 --> está acima do escopo da variação do expoente [-4, 4]\n"
     ]
    }
   ],
   "source": [
    "print('TRUNCAMENTO:')\n",
    "print('\\n0.125*10**1:  ', 0.125*10**1)\n",
    "print('0.100*10**2:  ', 0.100*10**2)\n",
    "print('-0.238*10**3: ', -0.238*10**3)\n",
    "print('0.271*10**1:  ', 0.271*10**1)\n",
    "print('0.7*10**-5 --> está abaixo do escopo da variação do expoente [-4, 4]')\n",
    "print('0.71823582*10**6 --> está acima do escopo da variação do expoente [-4, 4]')"
   ]
  },
  {
   "cell_type": "code",
   "execution_count": 26,
   "metadata": {},
   "outputs": [
    {
     "name": "stdout",
     "output_type": "stream",
     "text": [
      "ARREDONDAMENTO:\n",
      "\n",
      "0.125*10**1:   1.25\n",
      "0.100*10**2:   10.0\n",
      "-0.238*10**3:  -238.0\n",
      "0.272*10**1:   2.72\n",
      "0.7*10**-5 --> está abaixo do escopo da variação do expoente [-4, 4]\n",
      "0.71823582*10**6 --> está acima do escopo da variação do expoente [-4, 4]\n"
     ]
    }
   ],
   "source": [
    "import math\n",
    "print('ARREDONDAMENTO:')\n",
    "print('\\n0.125*10**1:  ', 0.125*10**1)\n",
    "print('0.100*10**2:  ', 0.100*10**2)\n",
    "print('-0.238*10**3: ', -0.238*10**3)\n",
    "print('0.272*10**1:  ', 0.272*10**1)\n",
    "print('0.7*10**-5 --> está abaixo do escopo da variação do expoente [-4, 4]')\n",
    "print('0.71823582*10**6 --> está acima do escopo da variação do expoente [-4, 4]')"
   ]
  },
  {
   "cell_type": "code",
   "execution_count": null,
   "metadata": {},
   "outputs": [],
   "source": []
  }
 ],
 "metadata": {
  "kernelspec": {
   "display_name": "Python 3",
   "language": "python",
   "name": "python3"
  },
  "language_info": {
   "codemirror_mode": {
    "name": "ipython",
    "version": 3
   },
   "file_extension": ".py",
   "mimetype": "text/x-python",
   "name": "python",
   "nbconvert_exporter": "python",
   "pygments_lexer": "ipython3",
   "version": "3.6.5"
  }
 },
 "nbformat": 4,
 "nbformat_minor": 2
}
